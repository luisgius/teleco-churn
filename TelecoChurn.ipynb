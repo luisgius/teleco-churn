{
 "cells": [
  {
   "cell_type": "code",
   "execution_count": 1,
   "id": "9e5161bf-7b20-45a3-b2d6-7b5729aa0a29",
   "metadata": {},
   "outputs": [],
   "source": [
    "import pandas as pd\n",
    "import numpy as np\n",
    "import matplotlib.pyplot as plt\n",
    "from pandas.plotting import scatter_matrix\n",
    "import seaborn as sns\n",
    "from sklearn.preprocessing import StandardScaler, MinMaxScaler, LabelEncoder, OneHotEncoder\n",
    "from sklearn.model_selection import train_test_split\n",
    "from sklearn.metrics import classification_report, precision_score, recall_score, f1_score\n",
    "\n",
    "import tensorflow as tf\n",
    "from tensorflow.keras import layers, models\n",
    "from tensorflow.keras.layers import Dense\n",
    "from tensorflow.keras.models import Sequential\n",
    "from tensorflow.keras.optimizers import Adam\n",
    "from tensorflow.keras.losses import BinaryCrossentropy\n",
    "from tensorflow.keras.metrics import Accuracy \n",
    "from tensorflow.keras.activations import sigmoid, relu\n",
    "from tensorflow.keras.regularizers import l1, l2"
   ]
  },
  {
   "cell_type": "code",
   "execution_count": 2,
   "id": "44237dd1-d4f9-424a-ab3c-fd530109e9f0",
   "metadata": {},
   "outputs": [],
   "source": [
    "customer = pd.read_csv(\"WA_Fn-UseC_-Telco-Customer-Churn.csv\")"
   ]
  },
  {
   "cell_type": "code",
   "execution_count": 3,
   "id": "42d7da8f-241b-4205-bb87-275a90872fa2",
   "metadata": {},
   "outputs": [
    {
     "data": {
      "text/plain": [
       "Index(['customerID', 'gender', 'SeniorCitizen', 'Partner', 'Dependents',\n",
       "       'tenure', 'PhoneService', 'MultipleLines', 'InternetService',\n",
       "       'OnlineSecurity', 'OnlineBackup', 'DeviceProtection', 'TechSupport',\n",
       "       'StreamingTV', 'StreamingMovies', 'Contract', 'PaperlessBilling',\n",
       "       'PaymentMethod', 'MonthlyCharges', 'TotalCharges', 'Churn'],\n",
       "      dtype='object')"
      ]
     },
     "execution_count": 3,
     "metadata": {},
     "output_type": "execute_result"
    }
   ],
   "source": [
    "customer.columns"
   ]
  },
  {
   "cell_type": "code",
   "execution_count": 4,
   "id": "2da0bf2f-cdf3-437c-9e18-bbc25589b5f2",
   "metadata": {},
   "outputs": [
    {
     "data": {
      "text/plain": [
       "Contract\n",
       "Month-to-month    3875\n",
       "Two year          1695\n",
       "One year          1473\n",
       "Name: count, dtype: int64"
      ]
     },
     "execution_count": 4,
     "metadata": {},
     "output_type": "execute_result"
    }
   ],
   "source": [
    "customer['Contract'].value_counts()"
   ]
  },
  {
   "cell_type": "code",
   "execution_count": 5,
   "id": "149d32fe-13f7-41c9-a1f3-b85725424c3d",
   "metadata": {},
   "outputs": [
    {
     "name": "stdout",
     "output_type": "stream",
     "text": [
      "<class 'pandas.core.frame.DataFrame'>\n",
      "RangeIndex: 7043 entries, 0 to 7042\n",
      "Data columns (total 21 columns):\n",
      " #   Column            Non-Null Count  Dtype  \n",
      "---  ------            --------------  -----  \n",
      " 0   customerID        7043 non-null   object \n",
      " 1   gender            7043 non-null   object \n",
      " 2   SeniorCitizen     7043 non-null   int64  \n",
      " 3   Partner           7043 non-null   object \n",
      " 4   Dependents        7043 non-null   object \n",
      " 5   tenure            7043 non-null   int64  \n",
      " 6   PhoneService      7043 non-null   object \n",
      " 7   MultipleLines     7043 non-null   object \n",
      " 8   InternetService   7043 non-null   object \n",
      " 9   OnlineSecurity    7043 non-null   object \n",
      " 10  OnlineBackup      7043 non-null   object \n",
      " 11  DeviceProtection  7043 non-null   object \n",
      " 12  TechSupport       7043 non-null   object \n",
      " 13  StreamingTV       7043 non-null   object \n",
      " 14  StreamingMovies   7043 non-null   object \n",
      " 15  Contract          7043 non-null   object \n",
      " 16  PaperlessBilling  7043 non-null   object \n",
      " 17  PaymentMethod     7043 non-null   object \n",
      " 18  MonthlyCharges    7043 non-null   float64\n",
      " 19  TotalCharges      7043 non-null   object \n",
      " 20  Churn             7043 non-null   object \n",
      "dtypes: float64(1), int64(2), object(18)\n",
      "memory usage: 1.1+ MB\n"
     ]
    }
   ],
   "source": [
    "customer.info()"
   ]
  },
  {
   "cell_type": "code",
   "execution_count": 6,
   "id": "fda8054a-f0cc-4955-a994-a3969b8538e4",
   "metadata": {},
   "outputs": [
    {
     "data": {
      "text/plain": [
       "Churn\n",
       "No     5174\n",
       "Yes    1869\n",
       "Name: count, dtype: int64"
      ]
     },
     "execution_count": 6,
     "metadata": {},
     "output_type": "execute_result"
    }
   ],
   "source": [
    "customer['Churn'].value_counts()"
   ]
  },
  {
   "cell_type": "code",
   "execution_count": null,
   "id": "02c887ef-9033-4d33-9d38-3dd0da069955",
   "metadata": {},
   "outputs": [],
   "source": []
  },
  {
   "cell_type": "code",
   "execution_count": 7,
   "id": "15f1a5b9-6027-4a6f-a2c7-882e54859f52",
   "metadata": {},
   "outputs": [],
   "source": [
    "def load_data(df):\n",
    "        #df[\"Gender_num\"] = df[\"Gender\"].map({\"Male\":1, \"Female\":0})\n",
    "        df[\"gender\"] = np.where(df[\"gender\"]==\"Male\",1,0)\n",
    "        col_yes = [\"Partner\",\"Dependents\",\"PhoneService\",\"OnlineSecurity\",\"PaperlessBilling\",\"Churn\"]\n",
    "        for col in col_yes:\n",
    "            df[col]= np.where(df[col]==\"Yes\",1,0)\n",
    "\n",
    "        #for col in columnas_categoricas:\n",
    "            #df[col] = np.where(df[col] == df[col].unique()[0], 1, 0)\n",
    "        col_yes_2 = [\"MultipleLines\",'OnlineBackup', 'DeviceProtection', 'TechSupport',\n",
    "                       'StreamingTV', 'StreamingMovies']\n",
    "        for col in col_yes_2:    \n",
    "            df[col] = df[col].map({\"No phone service\":0, \"No\":0, \"Yes\":1,\"No internet service\":0})\n",
    "        df = df.drop([\"customerID\",\"TotalCharges\"],axis=1)\n",
    "\n",
    "        return df"
   ]
  },
  {
   "cell_type": "code",
   "execution_count": 8,
   "id": "267d126d-64a5-44bf-8eed-1a1dcd8cb5fe",
   "metadata": {},
   "outputs": [
    {
     "name": "stdout",
     "output_type": "stream",
     "text": [
      "                  gender  SeniorCitizen  Partner  Dependents  tenure  \\\n",
      "gender               1.0            NaN      NaN         NaN     NaN   \n",
      "SeniorCitizen        NaN            1.0      NaN         NaN     NaN   \n",
      "Partner              NaN            NaN      1.0         NaN     NaN   \n",
      "Dependents           NaN            NaN      NaN         1.0     NaN   \n",
      "tenure               NaN            NaN      NaN         NaN     1.0   \n",
      "PhoneService         NaN            NaN      NaN         NaN     NaN   \n",
      "MultipleLines        NaN            NaN      NaN         NaN     NaN   \n",
      "OnlineSecurity       NaN            NaN      NaN         NaN     NaN   \n",
      "OnlineBackup         NaN            NaN      NaN         NaN     NaN   \n",
      "DeviceProtection     NaN            NaN      NaN         NaN     NaN   \n",
      "TechSupport          NaN            NaN      NaN         NaN     NaN   \n",
      "StreamingTV          NaN            NaN      NaN         NaN     NaN   \n",
      "StreamingMovies      NaN            NaN      NaN         NaN     NaN   \n",
      "PaperlessBilling     NaN            NaN      NaN         NaN     NaN   \n",
      "MonthlyCharges       NaN            NaN      NaN         NaN     NaN   \n",
      "Churn                NaN            NaN      NaN         NaN     NaN   \n",
      "\n",
      "                  PhoneService  MultipleLines  OnlineSecurity  OnlineBackup  \\\n",
      "gender                     NaN            NaN             NaN           NaN   \n",
      "SeniorCitizen              NaN            NaN             NaN           NaN   \n",
      "Partner                    NaN            NaN             NaN           NaN   \n",
      "Dependents                 NaN            NaN             NaN           NaN   \n",
      "tenure                     NaN            NaN             NaN           NaN   \n",
      "PhoneService               1.0            NaN             NaN           NaN   \n",
      "MultipleLines              NaN            1.0             NaN           NaN   \n",
      "OnlineSecurity             NaN            NaN             1.0           NaN   \n",
      "OnlineBackup               NaN            NaN             NaN           1.0   \n",
      "DeviceProtection           NaN            NaN             NaN           NaN   \n",
      "TechSupport                NaN            NaN             NaN           NaN   \n",
      "StreamingTV                NaN            NaN             NaN           NaN   \n",
      "StreamingMovies            NaN            NaN             NaN           NaN   \n",
      "PaperlessBilling           NaN            NaN             NaN           NaN   \n",
      "MonthlyCharges             NaN            NaN             NaN           NaN   \n",
      "Churn                      NaN            NaN             NaN           NaN   \n",
      "\n",
      "                  DeviceProtection  TechSupport  StreamingTV  StreamingMovies  \\\n",
      "gender                         NaN          NaN          NaN              NaN   \n",
      "SeniorCitizen                  NaN          NaN          NaN              NaN   \n",
      "Partner                        NaN          NaN          NaN              NaN   \n",
      "Dependents                     NaN          NaN          NaN              NaN   \n",
      "tenure                         NaN          NaN          NaN              NaN   \n",
      "PhoneService                   NaN          NaN          NaN              NaN   \n",
      "MultipleLines                  NaN          NaN          NaN              NaN   \n",
      "OnlineSecurity                 NaN          NaN          NaN              NaN   \n",
      "OnlineBackup                   NaN          NaN          NaN              NaN   \n",
      "DeviceProtection               1.0          NaN          NaN              NaN   \n",
      "TechSupport                    NaN          1.0          NaN              NaN   \n",
      "StreamingTV                    NaN          NaN          1.0              NaN   \n",
      "StreamingMovies                NaN          NaN          NaN              1.0   \n",
      "PaperlessBilling               NaN          NaN          NaN              NaN   \n",
      "MonthlyCharges                 NaN          NaN          NaN              NaN   \n",
      "Churn                          NaN          NaN          NaN              NaN   \n",
      "\n",
      "                  PaperlessBilling  MonthlyCharges  Churn  \n",
      "gender                         NaN             NaN    NaN  \n",
      "SeniorCitizen                  NaN             NaN    NaN  \n",
      "Partner                        NaN             NaN    NaN  \n",
      "Dependents                     NaN             NaN    NaN  \n",
      "tenure                         NaN             NaN    NaN  \n",
      "PhoneService                   NaN             NaN    NaN  \n",
      "MultipleLines                  NaN             NaN    NaN  \n",
      "OnlineSecurity                 NaN             NaN    NaN  \n",
      "OnlineBackup                   NaN             NaN    NaN  \n",
      "DeviceProtection               NaN             NaN    NaN  \n",
      "TechSupport                    NaN             NaN    NaN  \n",
      "StreamingTV                    NaN             NaN    NaN  \n",
      "StreamingMovies                NaN             NaN    NaN  \n",
      "PaperlessBilling               1.0             NaN    NaN  \n",
      "MonthlyCharges                 NaN             1.0    NaN  \n",
      "Churn                          NaN             NaN    1.0  \n"
     ]
    }
   ],
   "source": [
    "customer = pd.read_csv(\"WA_Fn-UseC_-Telco-Customer-Churn.csv\")\n",
    "customer_2 = load_data(customer)\n",
    "#customer_2.corr()\n",
    "# Seleccionar solo columnas numéricas\n",
    "numeric_customer = customer_2.select_dtypes(include=['number'])\n",
    "correlacion = numeric_customer.corr()\n",
    "correlacion = correlacion[correlacion.abs() >0.7]\n",
    "print(correlacion)"
   ]
  },
  {
   "cell_type": "code",
   "execution_count": 9,
   "id": "0fe18f16-e81b-43fa-ae76-a530872a6aaf",
   "metadata": {},
   "outputs": [
    {
     "name": "stdout",
     "output_type": "stream",
     "text": [
      "<class 'pandas.core.frame.DataFrame'>\n",
      "RangeIndex: 7043 entries, 0 to 7042\n",
      "Data columns (total 19 columns):\n",
      " #   Column            Non-Null Count  Dtype  \n",
      "---  ------            --------------  -----  \n",
      " 0   gender            7043 non-null   int32  \n",
      " 1   SeniorCitizen     7043 non-null   int64  \n",
      " 2   Partner           7043 non-null   int32  \n",
      " 3   Dependents        7043 non-null   int32  \n",
      " 4   tenure            7043 non-null   int64  \n",
      " 5   PhoneService      7043 non-null   int32  \n",
      " 6   MultipleLines     7043 non-null   int64  \n",
      " 7   InternetService   7043 non-null   object \n",
      " 8   OnlineSecurity    7043 non-null   int32  \n",
      " 9   OnlineBackup      7043 non-null   int64  \n",
      " 10  DeviceProtection  7043 non-null   int64  \n",
      " 11  TechSupport       7043 non-null   int64  \n",
      " 12  StreamingTV       7043 non-null   int64  \n",
      " 13  StreamingMovies   7043 non-null   int64  \n",
      " 14  Contract          7043 non-null   object \n",
      " 15  PaperlessBilling  7043 non-null   int32  \n",
      " 16  PaymentMethod     7043 non-null   object \n",
      " 17  MonthlyCharges    7043 non-null   float64\n",
      " 18  Churn             7043 non-null   int32  \n",
      "dtypes: float64(1), int32(7), int64(8), object(3)\n",
      "memory usage: 853.0+ KB\n"
     ]
    }
   ],
   "source": [
    "customer_2.info()"
   ]
  },
  {
   "cell_type": "code",
   "execution_count": 10,
   "id": "dba5aab2-4732-4a0f-b11c-a4ea772254c5",
   "metadata": {},
   "outputs": [],
   "source": [
    "def perform_eda(data):\n",
    "        \"\"\"Perform exploratory data analysis\"\"\"\n",
    "        # Create visualizations for key insights\n",
    "        plt.figure(figsize=(15, 10))\n",
    "        \n",
    "        # Customer tenure distribution\n",
    "        plt.subplot(2, 2, 1)\n",
    "        sns.histplot(data= data, x='tenure', hue='Churn', multiple=\"stack\")\n",
    "        plt.title('Customer Tenure Distribution by Churn')\n",
    "        \n",
    "        # Monthly charges distribution\n",
    "        plt.subplot(2, 2, 2)\n",
    "        sns.boxplot(data= data, x='Churn', y='MonthlyCharges')\n",
    "        plt.title('Monthly Charges by Churn Status')\n",
    "        \n",
    "        # Churn rate by contract type\n",
    "        plt.subplot(2, 2, 3)\n",
    "        contract_churn =  data.groupby('Contract')['Churn'].mean()\n",
    "        contract_churn.plot(kind='bar')\n",
    "        plt.title('Churn Rate by Contract Type')\n",
    "        \n",
    "        # Service usage patterns\n",
    "        plt.subplot(2, 2, 4)\n",
    "        services = ['PhoneService', 'InternetService', 'OnlineSecurity', 'TechSupport']\n",
    "        service_churn = data.groupby('PaymentMethod')['Churn'].mean()\n",
    "        service_churn.T.plot(kind='bar')\n",
    "        plt.title('Service Usage Patterns by Churn Status')\n",
    "        \n",
    "        plt.tight_layout()\n",
    "        plt.show()"
   ]
  },
  {
   "cell_type": "code",
   "execution_count": 11,
   "id": "aa0b7f59-a202-47c1-973e-2977adcd3b61",
   "metadata": {},
   "outputs": [
    {
     "name": "stderr",
     "output_type": "stream",
     "text": [
      "C:\\ProgramData\\anaconda3\\Lib\\site-packages\\seaborn\\_oldcore.py:1119: FutureWarning: use_inf_as_na option is deprecated and will be removed in a future version. Convert inf values to NaN before operating instead.\n",
      "  with pd.option_context('mode.use_inf_as_na', True):\n"
     ]
    },
    {
     "data": {
      "image/png": "[encoded data removed]",
      "text/plain": [
       "<Figure size 1500x1000 with 4 Axes>"
      ]
     },
     "metadata": {},
     "output_type": "display_data"
    }
   ],
   "source": [
    "perform_eda(customer)"
   ]
  },
  {
   "cell_type": "markdown",
   "id": "6e18a122-c0db-419b-b68b-6dbc7d0a34c6",
   "metadata": {},
   "source": [
    "# Neural Network"
   ]
  },
  {
   "cell_type": "code",
   "execution_count": 12,
   "id": "cdd4520e-56dd-43a8-ad8b-62314cee2761",
   "metadata": {},
   "outputs": [],
   "source": [
    "def preparing_features(df):\n",
    "\n",
    "    categorical_cols = df.select_dtypes(exclude=['number']).columns\n",
    "    print(categorical_cols)\n",
    "    df = pd.get_dummies(df, columns=categorical_cols, drop_first = True)\n",
    "\n",
    "    Y = df[\"Churn\"]\n",
    "    X = df.drop([\"Churn\"],axis=1)\n",
    "    \n",
    "\n",
    "    # #Incrementate Data per 100\n",
    "    # Y_t = np.tile(Y,(100,1))\n",
    "    # X_t = np.tile(X,(100,1))\n",
    "\n",
    "    # index = np.arange(len(X_t))\n",
    "    # np.random.shuffle(index)\n",
    "\n",
    "    # X = X_t[index]\n",
    "    # Y = Y_t[index]\n",
    "\n",
    "    \n",
    "   # División directa en entrenamiento, validación y prueba\n",
    "    X_train, X_temp, Y_train, Y_temp = train_test_split(X, Y, test_size=0.4, random_state=42)\n",
    "    X_CV, X_test, Y_CV, Y_TEST = train_test_split(X_temp, Y_temp, test_size=0.5, random_state=42)\n",
    "\n",
    "    \n",
    "\n",
    "    scaler = StandardScaler()\n",
    "    X_train_scaled = scaler.fit_transform(X_train)  # Ajustar y transformar con el conjunto de entrenamiento\n",
    "    X_CV_scaled = scaler.transform(X_CV)  # Transformar conjunto de validación\n",
    "    X_test_scaled = scaler.transform(X_test)  # Transformar conjunto de prueba\n",
    "    \n",
    "\n",
    "    # # Create preprocessing steps\n",
    "    #     # numeric_transformer = Pipeline(steps=[\n",
    "    #         ('scaler', StandardScaler())\n",
    "    #     ])\n",
    "        \n",
    "    #     categorical_transformer = Pipeline(steps=[\n",
    "    #         ('onehot', OneHotEncoder(drop='first', sparse=False))\n",
    "    #     ])\n",
    "        \n",
    "    #     # Combine preprocessing steps\n",
    "    #     preprocessor = ColumnTransformer(\n",
    "    #         transformers=[\n",
    "    #             ('num', numeric_transformer, numeric_features),\n",
    "    #             ('cat', categorical_transformer, categorical_features)\n",
    "    #         ])\n",
    "    \n",
    "    \n",
    "    return X_train_scaled, X_CV_scaled, X_test_scaled, Y_train, Y_CV, Y_TEST\n",
    "   \n",
    "    \n",
    "    "
   ]
  },
  {
   "cell_type": "code",
   "execution_count": 13,
   "id": "1c8692d4-6d20-49a1-95d6-50a71ea69e94",
   "metadata": {},
   "outputs": [],
   "source": [
    "def train_model(X_train_scaled, X_CV_scaled,  Y_train, Y_CV):\n",
    "\n",
    "    model = Sequential([\n",
    "            Dense(64, activation=\"relu\",kernel_regularizer=l1(0.0005)),\n",
    "            Dense(64, activation=\"relu\",kernel_regularizer=l1(0.0005)),\n",
    "            Dense(1,  activation=\"sigmoid\",kernel_regularizer=l1(0.0005))\n",
    "    ])\n",
    "\n",
    "    model.compile(\n",
    "        optimizer = tf.keras.optimizers.Adam(learning_rate=0.001),\n",
    "        loss = tf.keras.losses.BinaryCrossentropy(from_logits=True),\n",
    "        metrics=[\"accuracy\"]\n",
    "        \n",
    "        \n",
    "    )\n",
    "\n",
    "    history = model.fit(X_train_scaled,Y_train, epochs=100 )\n",
    "    # class_weight={0: 1, 1: 2}\n",
    "\n",
    "    loss1,accuracy1 = model.evaluate(X_CV_scaled, Y_CV)\n",
    "\n",
    "    print (f\"Loss: {loss1}, Accuracy: {accuracy1}\")\n",
    "\n",
    "#     # Save the best model based on validation loss\n",
    "# checkpoint_callback = ModelCheckpoint(\n",
    "#     filepath=\"best_model.keras\",  # File where the best model is saved\n",
    "#     monitor=\"val_loss\",           # Track validation loss\n",
    "#     save_best_only=True,          # Save only if it's the best model\n",
    "#     mode=\"min\",                   # Save when loss decreases\n",
    "#     verbose=1                     # Show when saving\n",
    "# )\n",
    "\n",
    "# # Train the model with validation data\n",
    "# history = model.fit(\n",
    "#     X_train_scaled, Y_train, \n",
    "#     epochs=100, \n",
    "#     validation_data=(X_CV_scaled, Y_CV),  # Required to track val_loss\n",
    "#     callbacks=[checkpoint_callback]       # Add the checkpoint callback\n",
    "# )\n",
    "\n",
    "    Y_pred = model.predict(X_CV_scaled)\n",
    "    Y_pred= (Y_pred>=0.4).astype(int)\n",
    "    print(classification_report(Y_CV,Y_pred, target_names=[\"No Churn\",\"Churn\"]))\n",
    "\n",
    "    return model"
   ]
  },
  {
   "cell_type": "code",
   "execution_count": 14,
   "id": "48ff9309-a40a-46eb-8d3f-246f0e97b942",
   "metadata": {},
   "outputs": [
    {
     "name": "stdout",
     "output_type": "stream",
     "text": [
      "Index(['InternetService', 'Contract', 'PaymentMethod'], dtype='object')\n"
     ]
    }
   ],
   "source": [
    "churn = customer_2[customer_2[\"Churn\"]==1].head(200) \n",
    "customer_2 = pd.concat([customer_2]*4, ignore_index=True)\n",
    "customer_2 = pd.concat([customer_2,churn],ignore_index=True)\n",
    "customer_2 = customer_2.sample(frac=1, random_state=42).reset_index(drop=True)\n",
    "a,b,c,d,e,f = preparing_features(customer_2)"
   ]
  },
  {
   "cell_type": "code",
   "execution_count": 15,
   "id": "3f8ffd4e-77a9-4a56-b37a-fb8241dc2421",
   "metadata": {},
   "outputs": [
    {
     "name": "stdout",
     "output_type": "stream",
     "text": [
      "Epoch 1/100\n"
     ]
    },
    {
     "name": "stderr",
     "output_type": "stream",
     "text": [
      "C:\\Users\\luis\\AppData\\Roaming\\Python\\Python311\\site-packages\\keras\\src\\backend\\tensorflow\\nn.py:750: UserWarning: \"`binary_crossentropy` received `from_logits=True`, but the `output` argument was produced by a Sigmoid activation and thus does not represent logits. Was this intended?\n",
      "  output, from_logits = _get_logits(\n"
     ]
    },
    {
     "name": "stdout",
     "output_type": "stream",
     "text": [
      "\u001b[1m532/532\u001b[0m \u001b[32m━━━━━━━━━━━━━━━━━━━━\u001b[0m\u001b[37m\u001b[0m \u001b[1m3s\u001b[0m 2ms/step - accuracy: 0.7736 - loss: 0.7274\n",
      "Epoch 2/100\n",
      "\u001b[1m532/532\u001b[0m \u001b[32m━━━━━━━━━━━━━━━━━━━━\u001b[0m\u001b[37m\u001b[0m \u001b[1m1s\u001b[0m 2ms/step - accuracy: 0.8103 - loss: 0.5425\n",
      "Epoch 3/100\n",
      "\u001b[1m532/532\u001b[0m \u001b[32m━━━━━━━━━━━━━━━━━━━━\u001b[0m\u001b[37m\u001b[0m \u001b[1m1s\u001b[0m 2ms/step - accuracy: 0.8134 - loss: 0.4849\n",
      "Epoch 4/100\n",
      "\u001b[1m532/532\u001b[0m \u001b[32m━━━━━━━━━━━━━━━━━━━━\u001b[0m\u001b[37m\u001b[0m \u001b[1m1s\u001b[0m 2ms/step - accuracy: 0.8156 - loss: 0.4572\n",
      "Epoch 5/100\n",
      "\u001b[1m532/532\u001b[0m \u001b[32m━━━━━━━━━━━━━━━━━━━━\u001b[0m\u001b[37m\u001b[0m \u001b[1m1s\u001b[0m 2ms/step - accuracy: 0.8099 - loss: 0.4524\n",
      "Epoch 6/100\n",
      "\u001b[1m532/532\u001b[0m \u001b[32m━━━━━━━━━━━━━━━━━━━━\u001b[0m\u001b[37m\u001b[0m \u001b[1m1s\u001b[0m 2ms/step - accuracy: 0.8134 - loss: 0.4485\n",
      "Epoch 7/100\n",
      "\u001b[1m532/532\u001b[0m \u001b[32m━━━━━━━━━━━━━━━━━━━━\u001b[0m\u001b[37m\u001b[0m \u001b[1m1s\u001b[0m 2ms/step - accuracy: 0.8089 - loss: 0.4439\n",
      "Epoch 8/100\n",
      "\u001b[1m532/532\u001b[0m \u001b[32m━━━━━━━━━━━━━━━━━━━━\u001b[0m\u001b[37m\u001b[0m \u001b[1m1s\u001b[0m 2ms/step - accuracy: 0.8147 - loss: 0.4357\n",
      "Epoch 9/100\n",
      "\u001b[1m532/532\u001b[0m \u001b[32m━━━━━━━━━━━━━━━━━━━━\u001b[0m\u001b[37m\u001b[0m \u001b[1m1s\u001b[0m 2ms/step - accuracy: 0.8151 - loss: 0.4311\n",
      "Epoch 10/100\n",
      "\u001b[1m532/532\u001b[0m \u001b[32m━━━━━━━━━━━━━━━━━━━━\u001b[0m\u001b[37m\u001b[0m \u001b[1m1s\u001b[0m 2ms/step - accuracy: 0.8168 - loss: 0.4333\n",
      "Epoch 11/100\n",
      "\u001b[1m532/532\u001b[0m \u001b[32m━━━━━━━━━━━━━━━━━━━━\u001b[0m\u001b[37m\u001b[0m \u001b[1m1s\u001b[0m 2ms/step - accuracy: 0.8214 - loss: 0.4245\n",
      "Epoch 12/100\n",
      "\u001b[1m532/532\u001b[0m \u001b[32m━━━━━━━━━━━━━━━━━━━━\u001b[0m\u001b[37m\u001b[0m \u001b[1m1s\u001b[0m 2ms/step - accuracy: 0.8163 - loss: 0.4252\n",
      "Epoch 13/100\n",
      "\u001b[1m532/532\u001b[0m \u001b[32m━━━━━━━━━━━━━━━━━━━━\u001b[0m\u001b[37m\u001b[0m \u001b[1m1s\u001b[0m 2ms/step - accuracy: 0.8132 - loss: 0.4290\n",
      "Epoch 14/100\n",
      "\u001b[1m532/532\u001b[0m \u001b[32m━━━━━━━━━━━━━━━━━━━━\u001b[0m\u001b[37m\u001b[0m \u001b[1m1s\u001b[0m 2ms/step - accuracy: 0.8117 - loss: 0.4312\n",
      "Epoch 15/100\n",
      "\u001b[1m532/532\u001b[0m \u001b[32m━━━━━━━━━━━━━━━━━━━━\u001b[0m\u001b[37m\u001b[0m \u001b[1m1s\u001b[0m 2ms/step - accuracy: 0.8128 - loss: 0.4267\n",
      "Epoch 16/100\n",
      "\u001b[1m532/532\u001b[0m \u001b[32m━━━━━━━━━━━━━━━━━━━━\u001b[0m\u001b[37m\u001b[0m \u001b[1m1s\u001b[0m 2ms/step - accuracy: 0.8161 - loss: 0.4202\n",
      "Epoch 17/100\n",
      "\u001b[1m532/532\u001b[0m \u001b[32m━━━━━━━━━━━━━━━━━━━━\u001b[0m\u001b[37m\u001b[0m \u001b[1m1s\u001b[0m 2ms/step - accuracy: 0.8146 - loss: 0.4222\n",
      "Epoch 18/100\n",
      "\u001b[1m532/532\u001b[0m \u001b[32m━━━━━━━━━━━━━━━━━━━━\u001b[0m\u001b[37m\u001b[0m \u001b[1m1s\u001b[0m 2ms/step - accuracy: 0.8171 - loss: 0.4188\n",
      "Epoch 19/100\n",
      "\u001b[1m532/532\u001b[0m \u001b[32m━━━━━━━━━━━━━━━━━━━━\u001b[0m\u001b[37m\u001b[0m \u001b[1m1s\u001b[0m 2ms/step - accuracy: 0.8167 - loss: 0.4208\n",
      "Epoch 20/100\n",
      "\u001b[1m532/532\u001b[0m \u001b[32m━━━━━━━━━━━━━━━━━━━━\u001b[0m\u001b[37m\u001b[0m \u001b[1m1s\u001b[0m 2ms/step - accuracy: 0.8219 - loss: 0.4148\n",
      "Epoch 21/100\n",
      "\u001b[1m532/532\u001b[0m \u001b[32m━━━━━━━━━━━━━━━━━━━━\u001b[0m\u001b[37m\u001b[0m \u001b[1m1s\u001b[0m 2ms/step - accuracy: 0.8181 - loss: 0.4181\n",
      "Epoch 22/100\n",
      "\u001b[1m532/532\u001b[0m \u001b[32m━━━━━━━━━━━━━━━━━━━━\u001b[0m\u001b[37m\u001b[0m \u001b[1m1s\u001b[0m 2ms/step - accuracy: 0.8204 - loss: 0.4174\n",
      "Epoch 23/100\n",
      "\u001b[1m532/532\u001b[0m \u001b[32m━━━━━━━━━━━━━━━━━━━━\u001b[0m\u001b[37m\u001b[0m \u001b[1m1s\u001b[0m 2ms/step - accuracy: 0.8149 - loss: 0.4252\n",
      "Epoch 24/100\n",
      "\u001b[1m532/532\u001b[0m \u001b[32m━━━━━━━━━━━━━━━━━━━━\u001b[0m\u001b[37m\u001b[0m \u001b[1m1s\u001b[0m 2ms/step - accuracy: 0.8145 - loss: 0.4220\n",
      "Epoch 25/100\n",
      "\u001b[1m532/532\u001b[0m \u001b[32m━━━━━━━━━━━━━━━━━━━━\u001b[0m\u001b[37m\u001b[0m \u001b[1m1s\u001b[0m 2ms/step - accuracy: 0.8153 - loss: 0.4238\n",
      "Epoch 26/100\n",
      "\u001b[1m532/532\u001b[0m \u001b[32m━━━━━━━━━━━━━━━━━━━━\u001b[0m\u001b[37m\u001b[0m \u001b[1m1s\u001b[0m 2ms/step - accuracy: 0.8178 - loss: 0.4173\n",
      "Epoch 27/100\n",
      "\u001b[1m532/532\u001b[0m \u001b[32m━━━━━━━━━━━━━━━━━━━━\u001b[0m\u001b[37m\u001b[0m \u001b[1m1s\u001b[0m 2ms/step - accuracy: 0.8137 - loss: 0.4226\n",
      "Epoch 28/100\n",
      "\u001b[1m532/532\u001b[0m \u001b[32m━━━━━━━━━━━━━━━━━━━━\u001b[0m\u001b[37m\u001b[0m \u001b[1m1s\u001b[0m 2ms/step - accuracy: 0.8180 - loss: 0.4156\n",
      "Epoch 29/100\n",
      "\u001b[1m532/532\u001b[0m \u001b[32m━━━━━━━━━━━━━━━━━━━━\u001b[0m\u001b[37m\u001b[0m \u001b[1m1s\u001b[0m 2ms/step - accuracy: 0.8180 - loss: 0.4121\n",
      "Epoch 30/100\n",
      "\u001b[1m532/532\u001b[0m \u001b[32m━━━━━━━━━━━━━━━━━━━━\u001b[0m\u001b[37m\u001b[0m \u001b[1m1s\u001b[0m 2ms/step - accuracy: 0.8198 - loss: 0.4168\n",
      "Epoch 31/100\n",
      "\u001b[1m532/532\u001b[0m \u001b[32m━━━━━━━━━━━━━━━━━━━━\u001b[0m\u001b[37m\u001b[0m \u001b[1m1s\u001b[0m 2ms/step - accuracy: 0.8205 - loss: 0.4134\n",
      "Epoch 32/100\n",
      "\u001b[1m532/532\u001b[0m \u001b[32m━━━━━━━━━━━━━━━━━━━━\u001b[0m\u001b[37m\u001b[0m \u001b[1m1s\u001b[0m 2ms/step - accuracy: 0.8180 - loss: 0.4192\n",
      "Epoch 33/100\n",
      "\u001b[1m532/532\u001b[0m \u001b[32m━━━━━━━━━━━━━━━━━━━━\u001b[0m\u001b[37m\u001b[0m \u001b[1m1s\u001b[0m 2ms/step - accuracy: 0.8193 - loss: 0.4151\n",
      "Epoch 34/100\n",
      "\u001b[1m532/532\u001b[0m \u001b[32m━━━━━━━━━━━━━━━━━━━━\u001b[0m\u001b[37m\u001b[0m \u001b[1m1s\u001b[0m 2ms/step - accuracy: 0.8213 - loss: 0.4169\n",
      "Epoch 35/100\n",
      "\u001b[1m532/532\u001b[0m \u001b[32m━━━━━━━━━━━━━━━━━━━━\u001b[0m\u001b[37m\u001b[0m \u001b[1m1s\u001b[0m 2ms/step - accuracy: 0.8241 - loss: 0.4090\n",
      "Epoch 36/100\n",
      "\u001b[1m532/532\u001b[0m \u001b[32m━━━━━━━━━━━━━━━━━━━━\u001b[0m\u001b[37m\u001b[0m \u001b[1m1s\u001b[0m 2ms/step - accuracy: 0.8254 - loss: 0.4085\n",
      "Epoch 37/100\n",
      "\u001b[1m532/532\u001b[0m \u001b[32m━━━━━━━━━━━━━━━━━━━━\u001b[0m\u001b[37m\u001b[0m \u001b[1m1s\u001b[0m 2ms/step - accuracy: 0.8205 - loss: 0.4141\n",
      "Epoch 38/100\n",
      "\u001b[1m532/532\u001b[0m \u001b[32m━━━━━━━━━━━━━━━━━━━━\u001b[0m\u001b[37m\u001b[0m \u001b[1m1s\u001b[0m 2ms/step - accuracy: 0.8222 - loss: 0.4111\n",
      "Epoch 39/100\n",
      "\u001b[1m532/532\u001b[0m \u001b[32m━━━━━━━━━━━━━━━━━━━━\u001b[0m\u001b[37m\u001b[0m \u001b[1m1s\u001b[0m 2ms/step - accuracy: 0.8242 - loss: 0.4098\n",
      "Epoch 40/100\n",
      "\u001b[1m532/532\u001b[0m \u001b[32m━━━━━━━━━━━━━━━━━━━━\u001b[0m\u001b[37m\u001b[0m \u001b[1m1s\u001b[0m 3ms/step - accuracy: 0.8233 - loss: 0.4109\n",
      "Epoch 41/100\n",
      "\u001b[1m532/532\u001b[0m \u001b[32m━━━━━━━━━━━━━━━━━━━━\u001b[0m\u001b[37m\u001b[0m \u001b[1m1s\u001b[0m 2ms/step - accuracy: 0.8274 - loss: 0.4063\n",
      "Epoch 42/100\n",
      "\u001b[1m532/532\u001b[0m \u001b[32m━━━━━━━━━━━━━━━━━━━━\u001b[0m\u001b[37m\u001b[0m \u001b[1m1s\u001b[0m 2ms/step - accuracy: 0.8192 - loss: 0.4146\n",
      "Epoch 43/100\n",
      "\u001b[1m532/532\u001b[0m \u001b[32m━━━━━━━━━━━━━━━━━━━━\u001b[0m\u001b[37m\u001b[0m \u001b[1m1s\u001b[0m 2ms/step - accuracy: 0.8131 - loss: 0.4221\n",
      "Epoch 44/100\n",
      "\u001b[1m532/532\u001b[0m \u001b[32m━━━━━━━━━━━━━━━━━━━━\u001b[0m\u001b[37m\u001b[0m \u001b[1m1s\u001b[0m 2ms/step - accuracy: 0.8214 - loss: 0.4089\n",
      "Epoch 45/100\n",
      "\u001b[1m532/532\u001b[0m \u001b[32m━━━━━━━━━━━━━━━━━━━━\u001b[0m\u001b[37m\u001b[0m \u001b[1m1s\u001b[0m 2ms/step - accuracy: 0.8212 - loss: 0.4161\n",
      "Epoch 46/100\n",
      "\u001b[1m532/532\u001b[0m \u001b[32m━━━━━━━━━━━━━━━━━━━━\u001b[0m\u001b[37m\u001b[0m \u001b[1m1s\u001b[0m 2ms/step - accuracy: 0.8166 - loss: 0.4126\n",
      "Epoch 47/100\n",
      "\u001b[1m532/532\u001b[0m \u001b[32m━━━━━━━━━━━━━━━━━━━━\u001b[0m\u001b[37m\u001b[0m \u001b[1m1s\u001b[0m 2ms/step - accuracy: 0.8261 - loss: 0.4061\n",
      "Epoch 48/100\n",
      "\u001b[1m532/532\u001b[0m \u001b[32m━━━━━━━━━━━━━━━━━━━━\u001b[0m\u001b[37m\u001b[0m \u001b[1m1s\u001b[0m 2ms/step - accuracy: 0.8183 - loss: 0.4155\n",
      "Epoch 49/100\n",
      "\u001b[1m532/532\u001b[0m \u001b[32m━━━━━━━━━━━━━━━━━━━━\u001b[0m\u001b[37m\u001b[0m \u001b[1m1s\u001b[0m 2ms/step - accuracy: 0.8205 - loss: 0.4049\n",
      "Epoch 50/100\n",
      "\u001b[1m532/532\u001b[0m \u001b[32m━━━━━━━━━━━━━━━━━━━━\u001b[0m\u001b[37m\u001b[0m \u001b[1m1s\u001b[0m 2ms/step - accuracy: 0.8273 - loss: 0.4042\n",
      "Epoch 51/100\n",
      "\u001b[1m532/532\u001b[0m \u001b[32m━━━━━━━━━━━━━━━━━━━━\u001b[0m\u001b[37m\u001b[0m \u001b[1m1s\u001b[0m 2ms/step - accuracy: 0.8214 - loss: 0.4074\n",
      "Epoch 52/100\n",
      "\u001b[1m532/532\u001b[0m \u001b[32m━━━━━━━━━━━━━━━━━━━━\u001b[0m\u001b[37m\u001b[0m \u001b[1m1s\u001b[0m 2ms/step - accuracy: 0.8216 - loss: 0.4085\n",
      "Epoch 53/100\n",
      "\u001b[1m532/532\u001b[0m \u001b[32m━━━━━━━━━━━━━━━━━━━━\u001b[0m\u001b[37m\u001b[0m \u001b[1m1s\u001b[0m 2ms/step - accuracy: 0.8238 - loss: 0.4015\n",
      "Epoch 54/100\n",
      "\u001b[1m532/532\u001b[0m \u001b[32m━━━━━━━━━━━━━━━━━━━━\u001b[0m\u001b[37m\u001b[0m \u001b[1m1s\u001b[0m 2ms/step - accuracy: 0.8188 - loss: 0.4089\n",
      "Epoch 55/100\n",
      "\u001b[1m532/532\u001b[0m \u001b[32m━━━━━━━━━━━━━━━━━━━━\u001b[0m\u001b[37m\u001b[0m \u001b[1m1s\u001b[0m 2ms/step - accuracy: 0.8239 - loss: 0.4058\n",
      "Epoch 56/100\n",
      "\u001b[1m532/532\u001b[0m \u001b[32m━━━━━━━━━━━━━━━━━━━━\u001b[0m\u001b[37m\u001b[0m \u001b[1m1s\u001b[0m 2ms/step - accuracy: 0.8205 - loss: 0.4114\n",
      "Epoch 57/100\n",
      "\u001b[1m532/532\u001b[0m \u001b[32m━━━━━━━━━━━━━━━━━━━━\u001b[0m\u001b[37m\u001b[0m \u001b[1m1s\u001b[0m 2ms/step - accuracy: 0.8202 - loss: 0.4128\n",
      "Epoch 58/100\n",
      "\u001b[1m532/532\u001b[0m \u001b[32m━━━━━━━━━━━━━━━━━━━━\u001b[0m\u001b[37m\u001b[0m \u001b[1m1s\u001b[0m 2ms/step - accuracy: 0.8188 - loss: 0.4129\n",
      "Epoch 59/100\n",
      "\u001b[1m532/532\u001b[0m \u001b[32m━━━━━━━━━━━━━━━━━━━━\u001b[0m\u001b[37m\u001b[0m \u001b[1m1s\u001b[0m 2ms/step - accuracy: 0.8188 - loss: 0.4128\n",
      "Epoch 60/100\n",
      "\u001b[1m532/532\u001b[0m \u001b[32m━━━━━━━━━━━━━━━━━━━━\u001b[0m\u001b[37m\u001b[0m \u001b[1m1s\u001b[0m 2ms/step - accuracy: 0.8203 - loss: 0.4126\n",
      "Epoch 61/100\n",
      "\u001b[1m532/532\u001b[0m \u001b[32m━━━━━━━━━━━━━━━━━━━━\u001b[0m\u001b[37m\u001b[0m \u001b[1m1s\u001b[0m 2ms/step - accuracy: 0.8182 - loss: 0.4080\n",
      "Epoch 62/100\n",
      "\u001b[1m532/532\u001b[0m \u001b[32m━━━━━━━━━━━━━━━━━━━━\u001b[0m\u001b[37m\u001b[0m \u001b[1m1s\u001b[0m 2ms/step - accuracy: 0.8181 - loss: 0.4154\n",
      "Epoch 63/100\n",
      "\u001b[1m532/532\u001b[0m \u001b[32m━━━━━━━━━━━━━━━━━━━━\u001b[0m\u001b[37m\u001b[0m \u001b[1m1s\u001b[0m 2ms/step - accuracy: 0.8129 - loss: 0.4153\n",
      "Epoch 64/100\n",
      "\u001b[1m532/532\u001b[0m \u001b[32m━━━━━━━━━━━━━━━━━━━━\u001b[0m\u001b[37m\u001b[0m \u001b[1m1s\u001b[0m 2ms/step - accuracy: 0.8239 - loss: 0.4086\n",
      "Epoch 65/100\n",
      "\u001b[1m532/532\u001b[0m \u001b[32m━━━━━━━━━━━━━━━━━━━━\u001b[0m\u001b[37m\u001b[0m \u001b[1m1s\u001b[0m 2ms/step - accuracy: 0.8146 - loss: 0.4151\n",
      "Epoch 66/100\n",
      "\u001b[1m532/532\u001b[0m \u001b[32m━━━━━━━━━━━━━━━━━━━━\u001b[0m\u001b[37m\u001b[0m \u001b[1m1s\u001b[0m 2ms/step - accuracy: 0.8146 - loss: 0.4131\n",
      "Epoch 67/100\n",
      "\u001b[1m532/532\u001b[0m \u001b[32m━━━━━━━━━━━━━━━━━━━━\u001b[0m\u001b[37m\u001b[0m \u001b[1m1s\u001b[0m 2ms/step - accuracy: 0.8269 - loss: 0.3985\n",
      "Epoch 68/100\n",
      "\u001b[1m532/532\u001b[0m \u001b[32m━━━━━━━━━━━━━━━━━━━━\u001b[0m\u001b[37m\u001b[0m \u001b[1m1s\u001b[0m 2ms/step - accuracy: 0.8180 - loss: 0.4119\n",
      "Epoch 69/100\n",
      "\u001b[1m532/532\u001b[0m \u001b[32m━━━━━━━━━━━━━━━━━━━━\u001b[0m\u001b[37m\u001b[0m \u001b[1m1s\u001b[0m 2ms/step - accuracy: 0.8237 - loss: 0.4083\n",
      "Epoch 70/100\n",
      "\u001b[1m532/532\u001b[0m \u001b[32m━━━━━━━━━━━━━━━━━━━━\u001b[0m\u001b[37m\u001b[0m \u001b[1m1s\u001b[0m 2ms/step - accuracy: 0.8225 - loss: 0.4076\n",
      "Epoch 71/100\n",
      "\u001b[1m532/532\u001b[0m \u001b[32m━━━━━━━━━━━━━━━━━━━━\u001b[0m\u001b[37m\u001b[0m \u001b[1m1s\u001b[0m 2ms/step - accuracy: 0.8231 - loss: 0.4055\n",
      "Epoch 72/100\n",
      "\u001b[1m532/532\u001b[0m \u001b[32m━━━━━━━━━━━━━━━━━━━━\u001b[0m\u001b[37m\u001b[0m \u001b[1m1s\u001b[0m 2ms/step - accuracy: 0.8229 - loss: 0.4044\n",
      "Epoch 73/100\n",
      "\u001b[1m532/532\u001b[0m \u001b[32m━━━━━━━━━━━━━━━━━━━━\u001b[0m\u001b[37m\u001b[0m \u001b[1m1s\u001b[0m 2ms/step - accuracy: 0.8191 - loss: 0.4091\n",
      "Epoch 74/100\n",
      "\u001b[1m532/532\u001b[0m \u001b[32m━━━━━━━━━━━━━━━━━━━━\u001b[0m\u001b[37m\u001b[0m \u001b[1m1s\u001b[0m 2ms/step - accuracy: 0.8196 - loss: 0.4077\n",
      "Epoch 75/100\n",
      "\u001b[1m532/532\u001b[0m \u001b[32m━━━━━━━━━━━━━━━━━━━━\u001b[0m\u001b[37m\u001b[0m \u001b[1m1s\u001b[0m 2ms/step - accuracy: 0.8229 - loss: 0.4070\n",
      "Epoch 76/100\n",
      "\u001b[1m532/532\u001b[0m \u001b[32m━━━━━━━━━━━━━━━━━━━━\u001b[0m\u001b[37m\u001b[0m \u001b[1m1s\u001b[0m 2ms/step - accuracy: 0.8209 - loss: 0.4116\n",
      "Epoch 77/100\n",
      "\u001b[1m532/532\u001b[0m \u001b[32m━━━━━━━━━━━━━━━━━━━━\u001b[0m\u001b[37m\u001b[0m \u001b[1m1s\u001b[0m 2ms/step - accuracy: 0.8246 - loss: 0.4063\n",
      "Epoch 78/100\n",
      "\u001b[1m532/532\u001b[0m \u001b[32m━━━━━━━━━━━━━━━━━━━━\u001b[0m\u001b[37m\u001b[0m \u001b[1m1s\u001b[0m 2ms/step - accuracy: 0.8198 - loss: 0.4065\n",
      "Epoch 79/100\n",
      "\u001b[1m532/532\u001b[0m \u001b[32m━━━━━━━━━━━━━━━━━━━━\u001b[0m\u001b[37m\u001b[0m \u001b[1m1s\u001b[0m 2ms/step - accuracy: 0.8145 - loss: 0.4153\n",
      "Epoch 80/100\n",
      "\u001b[1m532/532\u001b[0m \u001b[32m━━━━━━━━━━━━━━━━━━━━\u001b[0m\u001b[37m\u001b[0m \u001b[1m1s\u001b[0m 2ms/step - accuracy: 0.8233 - loss: 0.4043\n",
      "Epoch 81/100\n",
      "\u001b[1m532/532\u001b[0m \u001b[32m━━━━━━━━━━━━━━━━━━━━\u001b[0m\u001b[37m\u001b[0m \u001b[1m1s\u001b[0m 2ms/step - accuracy: 0.8210 - loss: 0.4065\n",
      "Epoch 82/100\n",
      "\u001b[1m532/532\u001b[0m \u001b[32m━━━━━━━━━━━━━━━━━━━━\u001b[0m\u001b[37m\u001b[0m \u001b[1m1s\u001b[0m 2ms/step - accuracy: 0.8225 - loss: 0.4072\n",
      "Epoch 83/100\n",
      "\u001b[1m532/532\u001b[0m \u001b[32m━━━━━━━━━━━━━━━━━━━━\u001b[0m\u001b[37m\u001b[0m \u001b[1m1s\u001b[0m 2ms/step - accuracy: 0.8265 - loss: 0.4044\n",
      "Epoch 84/100\n",
      "\u001b[1m532/532\u001b[0m \u001b[32m━━━━━━━━━━━━━━━━━━━━\u001b[0m\u001b[37m\u001b[0m \u001b[1m1s\u001b[0m 2ms/step - accuracy: 0.8244 - loss: 0.4055\n",
      "Epoch 85/100\n",
      "\u001b[1m532/532\u001b[0m \u001b[32m━━━━━━━━━━━━━━━━━━━━\u001b[0m\u001b[37m\u001b[0m \u001b[1m1s\u001b[0m 2ms/step - accuracy: 0.8213 - loss: 0.4083\n",
      "Epoch 86/100\n",
      "\u001b[1m532/532\u001b[0m \u001b[32m━━━━━━━━━━━━━━━━━━━━\u001b[0m\u001b[37m\u001b[0m \u001b[1m1s\u001b[0m 2ms/step - accuracy: 0.8230 - loss: 0.4055\n",
      "Epoch 87/100\n",
      "\u001b[1m532/532\u001b[0m \u001b[32m━━━━━━━━━━━━━━━━━━━━\u001b[0m\u001b[37m\u001b[0m \u001b[1m1s\u001b[0m 2ms/step - accuracy: 0.8173 - loss: 0.4105\n",
      "Epoch 88/100\n",
      "\u001b[1m532/532\u001b[0m \u001b[32m━━━━━━━━━━━━━━━━━━━━\u001b[0m\u001b[37m\u001b[0m \u001b[1m1s\u001b[0m 2ms/step - accuracy: 0.8275 - loss: 0.4075\n",
      "Epoch 89/100\n",
      "\u001b[1m532/532\u001b[0m \u001b[32m━━━━━━━━━━━━━━━━━━━━\u001b[0m\u001b[37m\u001b[0m \u001b[1m1s\u001b[0m 2ms/step - accuracy: 0.8265 - loss: 0.4064\n",
      "Epoch 90/100\n",
      "\u001b[1m532/532\u001b[0m \u001b[32m━━━━━━━━━━━━━━━━━━━━\u001b[0m\u001b[37m\u001b[0m \u001b[1m1s\u001b[0m 2ms/step - accuracy: 0.8243 - loss: 0.4060\n",
      "Epoch 91/100\n",
      "\u001b[1m532/532\u001b[0m \u001b[32m━━━━━━━━━━━━━━━━━━━━\u001b[0m\u001b[37m\u001b[0m \u001b[1m1s\u001b[0m 2ms/step - accuracy: 0.8162 - loss: 0.4060\n",
      "Epoch 92/100\n",
      "\u001b[1m532/532\u001b[0m \u001b[32m━━━━━━━━━━━━━━━━━━━━\u001b[0m\u001b[37m\u001b[0m \u001b[1m1s\u001b[0m 2ms/step - accuracy: 0.8206 - loss: 0.4055\n",
      "Epoch 93/100\n",
      "\u001b[1m532/532\u001b[0m \u001b[32m━━━━━━━━━━━━━━━━━━━━\u001b[0m\u001b[37m\u001b[0m \u001b[1m1s\u001b[0m 2ms/step - accuracy: 0.8172 - loss: 0.4094\n",
      "Epoch 94/100\n",
      "\u001b[1m532/532\u001b[0m \u001b[32m━━━━━━━━━━━━━━━━━━━━\u001b[0m\u001b[37m\u001b[0m \u001b[1m1s\u001b[0m 2ms/step - accuracy: 0.8246 - loss: 0.4082\n",
      "Epoch 95/100\n",
      "\u001b[1m532/532\u001b[0m \u001b[32m━━━━━━━━━━━━━━━━━━━━\u001b[0m\u001b[37m\u001b[0m \u001b[1m1s\u001b[0m 2ms/step - accuracy: 0.8234 - loss: 0.4052\n",
      "Epoch 96/100\n",
      "\u001b[1m532/532\u001b[0m \u001b[32m━━━━━━━━━━━━━━━━━━━━\u001b[0m\u001b[37m\u001b[0m \u001b[1m1s\u001b[0m 2ms/step - accuracy: 0.8211 - loss: 0.4121\n",
      "Epoch 97/100\n",
      "\u001b[1m532/532\u001b[0m \u001b[32m━━━━━━━━━━━━━━━━━━━━\u001b[0m\u001b[37m\u001b[0m \u001b[1m1s\u001b[0m 2ms/step - accuracy: 0.8245 - loss: 0.4020\n",
      "Epoch 98/100\n",
      "\u001b[1m532/532\u001b[0m \u001b[32m━━━━━━━━━━━━━━━━━━━━\u001b[0m\u001b[37m\u001b[0m \u001b[1m1s\u001b[0m 2ms/step - accuracy: 0.8209 - loss: 0.4089\n",
      "Epoch 99/100\n",
      "\u001b[1m532/532\u001b[0m \u001b[32m━━━━━━━━━━━━━━━━━━━━\u001b[0m\u001b[37m\u001b[0m \u001b[1m1s\u001b[0m 2ms/step - accuracy: 0.8197 - loss: 0.4074\n",
      "Epoch 100/100\n",
      "\u001b[1m532/532\u001b[0m \u001b[32m━━━━━━━━━━━━━━━━━━━━\u001b[0m\u001b[37m\u001b[0m \u001b[1m1s\u001b[0m 2ms/step - accuracy: 0.8199 - loss: 0.4042\n",
      "\u001b[1m178/178\u001b[0m \u001b[32m━━━━━━━━━━━━━━━━━━━━\u001b[0m\u001b[37m\u001b[0m \u001b[1m1s\u001b[0m 1ms/step - accuracy: 0.7985 - loss: 0.4354\n",
      "Loss: 0.43318063020706177, Accuracy: 0.8031371235847473\n",
      "\u001b[1m178/178\u001b[0m \u001b[32m━━━━━━━━━━━━━━━━━━━━\u001b[0m\u001b[37m\u001b[0m \u001b[1m0s\u001b[0m 1ms/step  \n",
      "              precision    recall  f1-score   support\n",
      "\n",
      "    No Churn       0.87      0.85      0.86      4117\n",
      "       Churn       0.63      0.66      0.65      1557\n",
      "\n",
      "    accuracy                           0.80      5674\n",
      "   macro avg       0.75      0.76      0.75      5674\n",
      "weighted avg       0.80      0.80      0.80      5674\n",
      "\n"
     ]
    }
   ],
   "source": [
    "model = train_model(a,b,d,e)"
   ]
  },
  {
   "cell_type": "code",
   "execution_count": 16,
   "id": "87f26c01-7bf8-4b50-ac82-2e4c3fbddab0",
   "metadata": {},
   "outputs": [
    {
     "name": "stdout",
     "output_type": "stream",
     "text": [
      "\u001b[1m178/178\u001b[0m \u001b[32m━━━━━━━━━━━━━━━━━━━━\u001b[0m\u001b[37m\u001b[0m \u001b[1m0s\u001b[0m 2ms/step - accuracy: 0.8050 - loss: 0.4227\n",
      "Loss: 0.42357367277145386, Accuracy: 0.8059911727905273\n"
     ]
    }
   ],
   "source": [
    "loss2,accuracy2 = model.evaluate(c,f)\n",
    "    \n",
    "    \n",
    "print (f\"Loss: {loss2}, Accuracy: {accuracy2}\")"
   ]
  },
  {
   "cell_type": "code",
   "execution_count": null,
   "id": "1931ed08-8dc4-450f-a5ec-07e2a94a3d46",
   "metadata": {},
   "outputs": [],
   "source": []
  },
  {
   "cell_type": "markdown",
   "id": "4867ba65-3a63-416b-99e0-ef4ea6194e99",
   "metadata": {},
   "source": [
    "# Logistic Regression"
   ]
  },
  {
   "cell_type": "code",
   "execution_count": 17,
   "id": "5c1c1c2b-2138-43f9-890c-7b32e741451f",
   "metadata": {},
   "outputs": [],
   "source": [
    "from sklearn.linear_model import LogisticRegression"
   ]
  },
  {
   "cell_type": "code",
   "execution_count": 18,
   "id": "1e0684ec-d795-46fc-8e64-0719afd370c2",
   "metadata": {},
   "outputs": [
    {
     "ename": "TypeError",
     "evalue": "LogisticRegression.__init__() got an unexpected keyword argument 'c'",
     "output_type": "error",
     "traceback": [
      "\u001b[1;31m---------------------------------------------------------------------------\u001b[0m",
      "\u001b[1;31mTypeError\u001b[0m                                 Traceback (most recent call last)",
      "Cell \u001b[1;32mIn[18], line 1\u001b[0m\n\u001b[1;32m----> 1\u001b[0m lr_model \u001b[38;5;241m=\u001b[39m LogisticRegression(c\u001b[38;5;241m=\u001b[39m\u001b[38;5;241m0.0005\u001b[39m, penalty\u001b[38;5;241m=\u001b[39m\u001b[38;5;124m\"\u001b[39m\u001b[38;5;124ml1\u001b[39m\u001b[38;5;124m\"\u001b[39m) \u001b[38;5;66;03m#Regularization Term\u001b[39;00m\n\u001b[0;32m      2\u001b[0m lr_model\u001b[38;5;241m.\u001b[39mfit(a,d)\n",
      "\u001b[1;31mTypeError\u001b[0m: LogisticRegression.__init__() got an unexpected keyword argument 'c'"
     ]
    }
   ],
   "source": [
    "lr_model = LogisticRegression(c=0.0005, penalty=\"l1\") #Regularization Term\n",
    "lr_model.fit(a,d)"
   ]
  },
  {
   "cell_type": "code",
   "execution_count": null,
   "id": "0e436b1d-9187-4fa6-a755-327e94326bae",
   "metadata": {},
   "outputs": [],
   "source": [
    "y_pred = lr_model.predict(b)\n",
    "y_pred = (y_pred > 0.45).astype(int)\n",
    "y_pred_2 = lr_model.predict(c)\n",
    "y_pred_2 = (y_pred_2 > 0.45).astype(int)\n",
    "print(f\"prediction for CV:\", y_pred)\n",
    "print(len(c),len(f), len(y_pred_2))\n",
    "print(f\"Model Score.\", lr_model.score(b,e))\n",
    "print(f\"Model Score.\", lr_model.score(c,f))"
   ]
  },
  {
   "cell_type": "code",
   "execution_count": null,
   "id": "439e9612-061a-4e29-8c94-9925df1b4389",
   "metadata": {},
   "outputs": [],
   "source": [
    "print(classification_report(y_pred,e, target_names=[\"No Churn\",\"Churn\"]))\n",
    "print(classification_report(y_pred_2,f, target_names=[\"No Churn\",\"Churn\"]))"
   ]
  },
  {
   "cell_type": "code",
   "execution_count": null,
   "id": "31f09fe0-ee79-4c09-ab35-4024d666c3a0",
   "metadata": {},
   "outputs": [],
   "source": []
  },
  {
   "cell_type": "markdown",
   "id": "d79bc13f-2f60-456b-8619-63edc0becf60",
   "metadata": {},
   "source": [
    "# Decision Tree"
   ]
  },
  {
   "cell_type": "code",
   "execution_count": null,
   "id": "c3a61c9b-88f9-42dc-bc66-03f193f938c6",
   "metadata": {},
   "outputs": [],
   "source": [
    "from sklearn.tree import DecisionTreeClassifier\n",
    "from sklearn.ensemble import RandomForestClassifier\n",
    "from sklearn.metrics import accuracy_score\n",
    "import xgboost as xgb\n",
    "from xgboost import XGBClassifier\n",
    "import matplotlib.pyplot as plt\n",
    "\n",
    "RANDOM_STATE= 55 ## We will pass it to every sklearn call so we ensure reproducibility"
   ]
  },
  {
   "cell_type": "code",
   "execution_count": null,
   "id": "f31013fb-f0a9-417a-9553-9af7f3d6c229",
   "metadata": {},
   "outputs": [],
   "source": [
    "min_samples_split_list = [2,10, 30, 50, 100, 200, 300, 700] ## If the number is an integer, then it is the actual quantity of samples,\n",
    "max_depth_list = [1,2, 3, 4, 8, 16, 32, 64, None] # None means that there is no depth limit."
   ]
  },
  {
   "cell_type": "code",
   "execution_count": null,
   "id": "50910ffb-7aab-4016-b4e2-2468cae48e00",
   "metadata": {},
   "outputs": [],
   "source": [
    "best_accuracy_train = 0\n",
    "best_accuracy_CV = 0\n",
    "best_min_sample_train = 0\n",
    "best_min_sample_CV = 0\n",
    "\n",
    "accuracy_list_train = []\n",
    "accuracy_list_CV = []\n",
    "\n",
    "for min_sample in min_samples_split_list:\n",
    "\n",
    "    model = DecisionTreeClassifier(min_samples_split = min_sample, random_state=RANDOM_STATE).fit(a,d)\n",
    "\n",
    "    predictions_train = model.predict(a)\n",
    "    predictions_cv = model.predict(b)\n",
    "\n",
    "    accuracy_train= accuracy_score(predictions_train, d)\n",
    "    accuracy_CV= accuracy_score(predictions_cv, e)\n",
    "\n",
    "    accuracy_list_train.append(accuracy_train)\n",
    "    accuracy_list_CV.append(accuracy_CV)\n",
    "\n",
    "    if accuracy_train > best_accuracy_train:\n",
    "        best_accuracy_train = accuracy_train;\n",
    "        best_min_sample_train = min_sample\n",
    "\n",
    "    if accuracy_CV > best_accuracy_CV:\n",
    "        best_accuracy_CV = accuracy_CV;\n",
    "        best_min_sample_CV = min_sample\n",
    "\n",
    "print(f\"best for Train:\",  best_accuracy_train, best_min_sample_train)\n",
    "print(f\"best for CV:\",  best_accuracy_CV, best_min_sample_CV)\n",
    "\n",
    "plt.title('Train x Validation metrics')\n",
    "plt.xlabel('min_samples_split')\n",
    "plt.ylabel('accuracy')\n",
    "plt.xticks(ticks = range(len(min_samples_split_list )),labels=min_samples_split_list)\n",
    "plt.plot(accuracy_list_train)\n",
    "plt.plot(accuracy_list_CV)\n",
    "plt.legend(['Train','Validation'])"
   ]
  },
  {
   "cell_type": "code",
   "execution_count": null,
   "id": "454dca63-02bd-4854-85ab-aa1e6831e3fc",
   "metadata": {},
   "outputs": [],
   "source": [
    "best_accuracy_train = 0\n",
    "best_accuracy_CV = 0\n",
    "best_min_sample_train = 0\n",
    "best_min_sample_CV = 0\n",
    "\n",
    "accuracy_list_train = []\n",
    "accuracy_list_CV = []\n",
    "for max_depth in max_depth_list:\n",
    "    model = DecisionTreeClassifier(max_depth = max_depth, random_state=RANDOM_STATE).fit(a,d)\n",
    "\n",
    "    predictions_train = model.predict(a)\n",
    "    predictions_cv = model.predict(b)\n",
    "\n",
    "    accuracy_train= accuracy_score(predictions_train, d)\n",
    "    accuracy_CV= accuracy_score(predictions_cv, e)\n",
    "\n",
    "    accuracy_list_train.append(accuracy_train)\n",
    "    accuracy_list_CV.append(accuracy_CV)\n",
    "\n",
    "    if accuracy_train > best_accuracy_train:\n",
    "        best_accuracy_train = accuracy_train;\n",
    "        best_min_sample_train = max_depth\n",
    "\n",
    "    if accuracy_CV > best_accuracy_CV:\n",
    "        best_accuracy_CV = accuracy_CV;\n",
    "        best_min_sample_CV = max_depth\n",
    "\n",
    "print(f\"best for Train:\",  best_accuracy_train, best_min_sample_train)\n",
    "print(f\"best for CV:\",  best_accuracy_CV, best_min_sample_CV)\n",
    "\n",
    "plt.title('Train x Validation metrics')\n",
    "plt.xlabel('max_depth')\n",
    "plt.ylabel('accuracy')\n",
    "plt.xticks(ticks = range(len(max_depth_list )),labels=max_depth_list)\n",
    "plt.plot(accuracy_list_train)\n",
    "plt.plot(accuracy_list_CV)\n",
    "plt.legend(['Train','Validation'])"
   ]
  },
  {
   "cell_type": "code",
   "execution_count": null,
   "id": "4ff526fa-4a27-45bb-b42d-d42ddeedbd10",
   "metadata": {},
   "outputs": [],
   "source": [
    "decision_tree_model = DecisionTreeClassifier(min_samples_split=10, max_depth=32,random_state=RANDOM_STATE).fit(a,d)\n",
    "print(f\"Score for Training:\", accuracy_score(decision_tree_model.predict(a),d))\n",
    "print(f\"Score for Validation:\", accuracy_score(decision_tree_model.predict(b),e))\n",
    "print(f\"Score for Test:\", accuracy_score(decision_tree_model.predict(c),f))"
   ]
  },
  {
   "cell_type": "code",
   "execution_count": null,
   "id": "b9fc0835-28be-4e3c-a669-458e51748922",
   "metadata": {},
   "outputs": [],
   "source": []
  },
  {
   "cell_type": "code",
   "execution_count": null,
   "id": "df2a8385-c6a9-4c83-a3f2-18f18accd6ef",
   "metadata": {},
   "outputs": [],
   "source": []
  },
  {
   "cell_type": "code",
   "execution_count": null,
   "id": "ec97d3f7-2521-4ff7-9128-beb9116afcd3",
   "metadata": {},
   "outputs": [],
   "source": []
  },
  {
   "cell_type": "code",
   "execution_count": null,
   "id": "aa022911-92eb-49b6-b5c3-f228deafaaf9",
   "metadata": {},
   "outputs": [],
   "source": []
  }
 ],
 "metadata": {
  "kernelspec": {
   "display_name": "Python 3 (ipykernel)",
   "language": "python",
   "name": "python3"
  },
  "language_info": {
   "codemirror_mode": {
    "name": "ipython",
    "version": 3
   },
   "file_extension": ".py",
   "mimetype": "text/x-python",
   "name": "python",
   "nbconvert_exporter": "python",
   "pygments_lexer": "ipython3",
   "version": "3.11.7"
  }
 },
 "nbformat": 4,
 "nbformat_minor": 5
}
